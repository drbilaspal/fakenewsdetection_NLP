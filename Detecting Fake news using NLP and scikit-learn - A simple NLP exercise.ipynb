{
 "cells": [
  {
   "cell_type": "markdown",
   "metadata": {},
   "source": [
    "## Detecting FAKE news \n",
    "\n",
    "Deecting a so-called fake news is not a easy task. Thanks to Machine Learning (ML), natural language processing (NLP) and artificial intelligence (AI) that could help us to detect a fake news detector. \n",
    "\n",
    "In this exercise we are using simple Naive Bayes to detect a news is fake or real. \n",
    "\n",
    "[Dataset](https://s3.amazonaws.com/assets.datacamp.com/blog_assets/fake_or_real_news.csv)\n",
    "\n",
    "### import libraries"
   ]
  },
  {
   "cell_type": "code",
   "execution_count": 72,
   "metadata": {},
   "outputs": [],
   "source": [
    "import numpy as np\n",
    "import pandas as pd\n",
    "from sklearn.model_selection import train_test_split\n",
    "#CountVectorizer creates a bow\n",
    "from sklearn.feature_extraction.text import CountVectorizer\n",
    "# Import TfidfVectorizer\n",
    "from sklearn.feature_extraction.text import TfidfVectorizer\n",
    "# Import the necessary modules\n",
    "from sklearn.naive_bayes import MultinomialNB\n",
    "from sklearn import metrics\n",
    "import matplotlib.pyplot as plt\n",
    "import seaborn as sns\n",
    "%matplotlib inline"
   ]
  },
  {
   "cell_type": "code",
   "execution_count": 20,
   "metadata": {},
   "outputs": [],
   "source": [
    "df = pd.read_csv('fake_or_real_news.csv') # Load data into DataFrame"
   ]
  },
  {
   "cell_type": "code",
   "execution_count": 41,
   "metadata": {},
   "outputs": [
    {
     "data": {
      "text/html": [
       "<div>\n",
       "<style scoped>\n",
       "    .dataframe tbody tr th:only-of-type {\n",
       "        vertical-align: middle;\n",
       "    }\n",
       "\n",
       "    .dataframe tbody tr th {\n",
       "        vertical-align: top;\n",
       "    }\n",
       "\n",
       "    .dataframe thead th {\n",
       "        text-align: right;\n",
       "    }\n",
       "</style>\n",
       "<table border=\"1\" class=\"dataframe\">\n",
       "  <thead>\n",
       "    <tr style=\"text-align: right;\">\n",
       "      <th></th>\n",
       "      <th>Unnamed: 0</th>\n",
       "      <th>title</th>\n",
       "      <th>text</th>\n",
       "      <th>label</th>\n",
       "    </tr>\n",
       "  </thead>\n",
       "  <tbody>\n",
       "    <tr>\n",
       "      <th>0</th>\n",
       "      <td>8476</td>\n",
       "      <td>You Can Smell Hillary’s Fear</td>\n",
       "      <td>Daniel Greenfield, a Shillman Journalism Fello...</td>\n",
       "      <td>FAKE</td>\n",
       "    </tr>\n",
       "  </tbody>\n",
       "</table>\n",
       "</div>"
      ],
      "text/plain": [
       "   Unnamed: 0                         title  \\\n",
       "0        8476  You Can Smell Hillary’s Fear   \n",
       "\n",
       "                                                text label  \n",
       "0  Daniel Greenfield, a Shillman Journalism Fello...  FAKE  "
      ]
     },
     "execution_count": 41,
     "metadata": {},
     "output_type": "execute_result"
    }
   ],
   "source": [
    "df.head(1)"
   ]
  },
  {
   "cell_type": "code",
   "execution_count": 42,
   "metadata": {},
   "outputs": [
    {
     "data": {
      "text/html": [
       "<div>\n",
       "<style scoped>\n",
       "    .dataframe tbody tr th:only-of-type {\n",
       "        vertical-align: middle;\n",
       "    }\n",
       "\n",
       "    .dataframe tbody tr th {\n",
       "        vertical-align: top;\n",
       "    }\n",
       "\n",
       "    .dataframe thead th {\n",
       "        text-align: right;\n",
       "    }\n",
       "</style>\n",
       "<table border=\"1\" class=\"dataframe\">\n",
       "  <thead>\n",
       "    <tr style=\"text-align: right;\">\n",
       "      <th></th>\n",
       "      <th>title</th>\n",
       "      <th>text</th>\n",
       "      <th>label</th>\n",
       "    </tr>\n",
       "    <tr>\n",
       "      <th>Unnamed: 0</th>\n",
       "      <th></th>\n",
       "      <th></th>\n",
       "      <th></th>\n",
       "    </tr>\n",
       "  </thead>\n",
       "  <tbody>\n",
       "    <tr>\n",
       "      <th>8476</th>\n",
       "      <td>You Can Smell Hillary’s Fear</td>\n",
       "      <td>Daniel Greenfield, a Shillman Journalism Fello...</td>\n",
       "      <td>FAKE</td>\n",
       "    </tr>\n",
       "  </tbody>\n",
       "</table>\n",
       "</div>"
      ],
      "text/plain": [
       "                                   title  \\\n",
       "Unnamed: 0                                 \n",
       "8476        You Can Smell Hillary’s Fear   \n",
       "\n",
       "                                                         text label  \n",
       "Unnamed: 0                                                           \n",
       "8476        Daniel Greenfield, a Shillman Journalism Fello...  FAKE  "
      ]
     },
     "execution_count": 42,
     "metadata": {},
     "output_type": "execute_result"
    }
   ],
   "source": [
    "# Set index\n",
    "df = df.set_index(\"Unnamed: 0\") \n",
    "\n",
    "# Print first lines of `df` \n",
    "df.head(1)"
   ]
  },
  {
   "cell_type": "code",
   "execution_count": 43,
   "metadata": {},
   "outputs": [
    {
     "name": "stdout",
     "output_type": "stream",
     "text": [
      "<class 'pandas.core.frame.DataFrame'>\n",
      "Int64Index: 6335 entries, 8476 to 4330\n",
      "Data columns (total 3 columns):\n",
      "title    6335 non-null object\n",
      "text     6335 non-null object\n",
      "label    6335 non-null object\n",
      "dtypes: object(3)\n",
      "memory usage: 198.0+ KB\n"
     ]
    }
   ],
   "source": [
    "df.info()"
   ]
  },
  {
   "cell_type": "code",
   "execution_count": 46,
   "metadata": {},
   "outputs": [],
   "source": [
    "# Create a series to store the labels: y\n",
    "y = df.label\n",
    "\n",
    "# Create training and test sets\n",
    "X_train, X_test, y_train, y_test =\\\n",
    "train_test_split(df['text'],y,test_size=0.33,random_state=53)"
   ]
  },
  {
   "cell_type": "markdown",
   "metadata": {},
   "source": [
    "#### Building Vectorizer Classifiers\n",
    "\n",
    "Now that we have our train and test datasets, we can build our classifiers. To get a good idea if the words and tokens in the articles had a significant impact on whether the news was fake or real, we begin by using ``CountVectorizer`` and `TfidfVectorizer`.\n",
    "\n",
    "We use a max threshhold set at .7 for the TF-IDF vectorizer tfidf_vectorizer using the `max_df` argument. This removes words which appear in more than 70% of the articles. Also, the built-in `stop_words` parameter will remove English stop words from the data before making vectors."
   ]
  },
  {
   "cell_type": "code",
   "execution_count": 54,
   "metadata": {},
   "outputs": [
    {
     "name": "stdout",
     "output_type": "stream",
     "text": [
      "Unnamed: 0\n",
      "8055                                                     \n",
      "5656    Report Copyright Violation Do you think there ...\n",
      "669     The election in 232 photos, 43 numbers and 131...\n",
      "5630    Email Ever wonder what’s on the mind of today’...\n",
      "9797    Wells Fargo is Rotting from the Top Down Wells...\n",
      "3190    Donald Trump may have eased some Republican fe...\n",
      "9211    Trump rape accuser skips press conference, cit...\n",
      "132     As Harris lay struggling and dying, he told th...\n",
      "3626    (CNN) A pair of dramatic raids Friday in Franc...\n",
      "6561    Food mixology: When eaten together, these food...\n",
      "Name: text, dtype: object\n"
     ]
    }
   ],
   "source": [
    "# Initialize a CountVectorizer object: count_vectorizer\n",
    "count_vectorizer = CountVectorizer(stop_words='english')\n",
    "\n",
    "# Transform the training data using only the 'text' column values: count_train \n",
    "count_train = count_vectorizer.fit_transform(X_train) #(X_train.values)\n",
    "\n",
    "# Transform the test data using only the 'text' column values: count_test \n",
    "count_test = count_vectorizer.transform(X_test) #(X_test.values)\n",
    "\n",
    "# Print the first 10 features of the count_vectorizer\n",
    "print(X_train[:10])"
   ]
  },
  {
   "cell_type": "code",
   "execution_count": 51,
   "metadata": {},
   "outputs": [],
   "source": [
    "# Initialize a TfidfVectorizer object: tfidf_vectorizer\n",
    "tfidf_vectorizer = TfidfVectorizer(stop_words=\"english\",max_df=0.7)"
   ]
  },
  {
   "cell_type": "code",
   "execution_count": 53,
   "metadata": {},
   "outputs": [],
   "source": [
    "# Transform the training data: tfidf_train \n",
    "tfidf_train = tfidf_vectorizer.fit_transform(X_train)#(X_train.values)\n",
    "\n",
    "# Transform the test data: tfidf_test \n",
    "tfidf_test = tfidf_vectorizer.transform(X_test)#(X_test.values)"
   ]
  },
  {
   "cell_type": "markdown",
   "metadata": {},
   "source": [
    "Now that you have vectors, you can then take a look at the vector features, stored in `count_vectorizer` and `tfidf_vectorizer`."
   ]
  },
  {
   "cell_type": "code",
   "execution_count": 56,
   "metadata": {},
   "outputs": [
    {
     "name": "stdout",
     "output_type": "stream",
     "text": [
      "['حلب', 'عربي', 'عن', 'لم', 'ما', 'محاولات', 'من', 'هذا', 'والمرضى', 'ยงade']\n",
      "['00', '000', '0000', '00000031', '000035', '00006', '0001', '0001pt', '000ft', '000km']\n"
     ]
    }
   ],
   "source": [
    "# Get the feature names of `tfidf_vectorizer` \n",
    "print(tfidf_vectorizer.get_feature_names()[-10:])\n",
    "\n",
    "# Get the feature names of `count_vectorizer` \n",
    "print(count_vectorizer.get_feature_names()[:10])"
   ]
  },
  {
   "cell_type": "markdown",
   "metadata": {},
   "source": [
    "There are clearly comments, measurements or other nonsensical words as well as multilingual articles in the dataset that we are using. Normally, it is better to spend more time preprocessing this and removing noise, but as this an introductory exercise, let's see whether the model can overcome the noise and properly classify despite these issues."
   ]
  },
  {
   "cell_type": "code",
   "execution_count": 58,
   "metadata": {},
   "outputs": [
    {
     "name": "stdout",
     "output_type": "stream",
     "text": [
      "[[0. 0. 0. ... 0. 0. 0.]\n",
      " [0. 0. 0. ... 0. 0. 0.]\n",
      " [0. 0. 0. ... 0. 0. 0.]\n",
      " [0. 0. 0. ... 0. 0. 0.]\n",
      " [0. 0. 0. ... 0. 0. 0.]]\n"
     ]
    }
   ],
   "source": [
    "# Print the first 5 vectors of the tfidf training data\n",
    "print(tfidf_train.A[:5])"
   ]
  },
  {
   "cell_type": "code",
   "execution_count": 59,
   "metadata": {},
   "outputs": [],
   "source": [
    "# Create the CountVectorizer DataFrame: count_df\n",
    "count_df = pd.DataFrame(count_train.A, columns=count_vectorizer.get_feature_names())\n",
    "\n",
    "# Create the TfidfVectorizer DataFrame: tfidf_df\n",
    "tfidf_df = pd.DataFrame(tfidf_train.A, columns=tfidf_vectorizer.get_feature_names())"
   ]
  },
  {
   "cell_type": "code",
   "execution_count": 60,
   "metadata": {},
   "outputs": [
    {
     "name": "stdout",
     "output_type": "stream",
     "text": [
      "   00  000  0000  00000031  000035  00006  0001  0001pt  000ft  000km  ...    \\\n",
      "0   0    0     0         0       0      0     0       0      0      0  ...     \n",
      "1   0    0     0         0       0      0     0       0      0      0  ...     \n",
      "2   0    0     0         0       0      0     0       0      0      0  ...     \n",
      "3   0    0     0         0       0      0     0       0      0      0  ...     \n",
      "4   0    0     0         0       0      0     0       0      0      0  ...     \n",
      "\n",
      "   حلب  عربي  عن  لم  ما  محاولات  من  هذا  والمرضى  ยงade  \n",
      "0    0     0   0   0   0        0   0    0        0      0  \n",
      "1    0     0   0   0   0        0   0    0        0      0  \n",
      "2    0     0   0   0   0        0   0    0        0      0  \n",
      "3    0     0   0   0   0        0   0    0        0      0  \n",
      "4    0     0   0   0   0        0   0    0        0      0  \n",
      "\n",
      "[5 rows x 56922 columns]\n"
     ]
    }
   ],
   "source": [
    "# Print the head of count_df\n",
    "print(count_df.head())"
   ]
  },
  {
   "cell_type": "code",
   "execution_count": 61,
   "metadata": {},
   "outputs": [
    {
     "name": "stdout",
     "output_type": "stream",
     "text": [
      "    00  000  0000  00000031  000035  00006  0001  0001pt  000ft  000km  ...    \\\n",
      "0  0.0  0.0   0.0       0.0     0.0    0.0   0.0     0.0    0.0    0.0  ...     \n",
      "1  0.0  0.0   0.0       0.0     0.0    0.0   0.0     0.0    0.0    0.0  ...     \n",
      "2  0.0  0.0   0.0       0.0     0.0    0.0   0.0     0.0    0.0    0.0  ...     \n",
      "3  0.0  0.0   0.0       0.0     0.0    0.0   0.0     0.0    0.0    0.0  ...     \n",
      "4  0.0  0.0   0.0       0.0     0.0    0.0   0.0     0.0    0.0    0.0  ...     \n",
      "\n",
      "   حلب  عربي   عن   لم   ما  محاولات   من  هذا  والمرضى  ยงade  \n",
      "0  0.0   0.0  0.0  0.0  0.0      0.0  0.0  0.0      0.0    0.0  \n",
      "1  0.0   0.0  0.0  0.0  0.0      0.0  0.0  0.0      0.0    0.0  \n",
      "2  0.0   0.0  0.0  0.0  0.0      0.0  0.0  0.0      0.0    0.0  \n",
      "3  0.0   0.0  0.0  0.0  0.0      0.0  0.0  0.0      0.0    0.0  \n",
      "4  0.0   0.0  0.0  0.0  0.0      0.0  0.0  0.0      0.0    0.0  \n",
      "\n",
      "[5 rows x 56922 columns]\n"
     ]
    }
   ],
   "source": [
    "# Print the head of tfidf_df\n",
    "print(tfidf_df.head())"
   ]
  },
  {
   "cell_type": "code",
   "execution_count": 62,
   "metadata": {},
   "outputs": [
    {
     "name": "stdout",
     "output_type": "stream",
     "text": [
      "set()\n"
     ]
    }
   ],
   "source": [
    "# Calculate the difference in columns: difference\n",
    "difference = set(count_df.columns) - set(tfidf_df.columns)\n",
    "print(difference)"
   ]
  },
  {
   "cell_type": "code",
   "execution_count": 64,
   "metadata": {},
   "outputs": [
    {
     "name": "stdout",
     "output_type": "stream",
     "text": [
      "False\n"
     ]
    }
   ],
   "source": [
    "# Check whether the DataFrames are equal\n",
    "print(count_df.equals(tfidf_df))"
   ]
  },
  {
   "cell_type": "markdown",
   "metadata": {},
   "source": [
    "As we see, both vectorizers extracted the same tokens, but obviously have different weights. Likely, changing the `max_df` and `min_df` of the TF-IDF vectorizer could alter the result and lead to different features in each.\n",
    "\n",
    "Now it's time to train and test our model. Here, we'll begin with an NLP favorite, `MultinomialNB` and compare TF-IDF versus bag-of-words."
   ]
  },
  {
   "cell_type": "code",
   "execution_count": 92,
   "metadata": {},
   "outputs": [
    {
     "name": "stdout",
     "output_type": "stream",
     "text": [
      "accuracy:   0.893\n",
      "[[ 865  143]\n",
      " [  80 1003]]\n"
     ]
    }
   ],
   "source": [
    "# Instantiate a Multinomial Naive Bayes classifier: nb_classifier\n",
    "nb_classifier = MultinomialNB()\n",
    "\n",
    "# Fit the classifier to the training data\n",
    "nb_classifier.fit(count_train, y_train)\n",
    "\n",
    "# Create the predicted tags: pred\n",
    "pred = nb_classifier.predict(count_test)\n",
    "\n",
    "# Calculate the accuracy score: score\n",
    "score = metrics.accuracy_score(y_test,pred)\n",
    "print(\"accuracy:   %0.3f\" % score)\n",
    "\n",
    "# Calculate the confusion matrix: cm\n",
    "cm = metrics.confusion_matrix(y_test, pred, labels=['FAKE','REAL'])\n",
    "print(cm)"
   ]
  },
  {
   "cell_type": "code",
   "execution_count": 93,
   "metadata": {},
   "outputs": [
    {
     "data": {
      "text/plain": [
       "<matplotlib.axes._subplots.AxesSubplot at 0x1a211dc240>"
      ]
     },
     "execution_count": 93,
     "metadata": {},
     "output_type": "execute_result"
    },
    {
     "data": {
      "image/png": "[encoded data removed]",
      "text/plain": [
       "<Figure size 432x288 with 2 Axes>"
      ]
     },
     "metadata": {
      "needs_background": "light"
     },
     "output_type": "display_data"
    }
   ],
   "source": [
    "sns.heatmap(cm, annot=True, fmt='d',cmap=\"YlGnBu\" ) #0:FAKE, 1:REAL"
   ]
  },
  {
   "cell_type": "code",
   "execution_count": 94,
   "metadata": {},
   "outputs": [
    {
     "name": "stdout",
     "output_type": "stream",
     "text": [
      "accuracy:   0.857\n",
      "[[ 739  269]\n",
      " [  31 1052]]\n"
     ]
    }
   ],
   "source": [
    "# Create a Multinomial Naive Bayes classifier: nb_classifier\n",
    "nb_classifier = MultinomialNB()\n",
    "\n",
    "# Fit the classifier to the training data\n",
    "nb_classifier.fit(tfidf_train,y_train)\n",
    "\n",
    "# Create the predicted tags: pred\n",
    "pred = nb_classifier.predict(tfidf_test)\n",
    "\n",
    "# Calculate the accuracy score: score\n",
    "score = metrics.accuracy_score(y_test,pred)\n",
    "print(\"accuracy:   %0.3f\" % score)\n",
    "\n",
    "# Calculate the confusion matrix: cm\n",
    "cm = metrics.confusion_matrix(y_test,pred,labels=['FAKE','REAL'])\n",
    "print(cm)"
   ]
  },
  {
   "cell_type": "code",
   "execution_count": 95,
   "metadata": {},
   "outputs": [
    {
     "data": {
      "text/plain": [
       "<matplotlib.axes._subplots.AxesSubplot at 0x1a2133b5f8>"
      ]
     },
     "execution_count": 95,
     "metadata": {},
     "output_type": "execute_result"
    },
    {
     "data": {
      "image/png": "[encoded data removed]",
      "text/plain": [
       "<Figure size 432x288 with 2 Axes>"
      ]
     },
     "metadata": {
      "needs_background": "light"
     },
     "output_type": "display_data"
    }
   ],
   "source": [
    "sns.heatmap(cm, annot=True, fmt='d',cmap=\"YlGnBu\" )"
   ]
  },
  {
   "cell_type": "markdown",
   "metadata": {},
   "source": [
    "With absolutely no parameter tuning, our count vectorized training set count_train is visibly outperforming our TF-IDF vectors in detecting the fake news!\n",
    "\n",
    "Let's now test a linear model. "
   ]
  },
  {
   "cell_type": "code",
   "execution_count": 96,
   "metadata": {},
   "outputs": [],
   "source": [
    "from sklearn.linear_model import PassiveAggressiveClassifier"
   ]
  },
  {
   "cell_type": "code",
   "execution_count": 97,
   "metadata": {},
   "outputs": [
    {
     "name": "stdout",
     "output_type": "stream",
     "text": [
      "accuracy:   0.937\n"
     ]
    }
   ],
   "source": [
    "linear_clf = PassiveAggressiveClassifier(n_iter=50)\n",
    "linear_clf.fit(tfidf_train, y_train)\n",
    "pred = linear_clf.predict(tfidf_test)\n",
    "score = metrics.accuracy_score(y_test, pred)\n",
    "print(\"accuracy:   %0.3f\" % score)\n",
    "cm = metrics.confusion_matrix(y_test, pred, labels=['FAKE', 'REAL'])"
   ]
  },
  {
   "cell_type": "code",
   "execution_count": 99,
   "metadata": {},
   "outputs": [
    {
     "data": {
      "text/plain": [
       "<matplotlib.axes._subplots.AxesSubplot at 0x1a953d6780>"
      ]
     },
     "execution_count": 99,
     "metadata": {},
     "output_type": "execute_result"
    },
    {
     "data": {
      "image/png": "[encoded data removed]",
      "text/plain": [
       "<Figure size 432x288 with 2 Axes>"
      ]
     },
     "metadata": {
      "needs_background": "light"
     },
     "output_type": "display_data"
    }
   ],
   "source": [
    "sns.heatmap(cm, annot=True, fmt='d',cmap=\"YlGnBu\" )"
   ]
  },
  {
   "cell_type": "markdown",
   "metadata": {},
   "source": [
    "The confusion matrix looks a bit better. We can test if tuning the `alpha` value for a `MultinomialNB` creates comparable results. We can also use parameter tuning with `grid search` for a more exhaustive search. Or we can try other model, such as, `SVM`."
   ]
  },
  {
   "cell_type": "code",
   "execution_count": 102,
   "metadata": {},
   "outputs": [
    {
     "name": "stdout",
     "output_type": "stream",
     "text": [
      "Alpha:  0.0\n",
      "accuracy:   0.881\n",
      "\n",
      "Alpha:  0.1\n",
      "accuracy:   0.898\n",
      "\n",
      "Alpha:  0.2\n",
      "accuracy:   0.894\n",
      "\n",
      "Alpha:  0.30000000000000004\n",
      "accuracy:   0.890\n",
      "\n",
      "Alpha:  0.4\n",
      "accuracy:   0.886\n",
      "\n",
      "Alpha:  0.5\n"
     ]
    },
    {
     "name": "stderr",
     "output_type": "stream",
     "text": [
      "/Users/bilaspal/anaconda3/lib/python3.7/site-packages/sklearn/naive_bayes.py:480: UserWarning: alpha too small will result in numeric errors, setting alpha = 1.0e-10\n",
      "  'setting alpha = %.1e' % _ALPHA_MIN)\n"
     ]
    },
    {
     "name": "stdout",
     "output_type": "stream",
     "text": [
      "accuracy:   0.884\n",
      "\n",
      "Alpha:  0.6000000000000001\n",
      "accuracy:   0.875\n",
      "\n",
      "Alpha:  0.7000000000000001\n",
      "accuracy:   0.870\n",
      "\n",
      "Alpha:  0.8\n",
      "accuracy:   0.866\n",
      "\n",
      "Alpha:  0.9\n",
      "accuracy:   0.859\n",
      "\n"
     ]
    }
   ],
   "source": [
    "# Create the list of alphas: alphas\n",
    "alphas = np.arange(0,1,0.1)\n",
    "\n",
    "# Define train_and_predict()\n",
    "def train_and_predict(alpha):\n",
    "    # Instantiate the classifier: nb_classifier\n",
    "    nb_classifier = MultinomialNB(alpha)\n",
    "    # Fit to the training data\n",
    "    nb_classifier.fit(tfidf_train,y_train)\n",
    "    # Predict the labels: pred\n",
    "    pred = nb_classifier.predict(tfidf_test)\n",
    "    # Compute accuracy: score\n",
    "    score = metrics.accuracy_score(y_test,pred)\n",
    "    return score\n",
    "\n",
    "# Iterate over the alphas and print the corresponding score\n",
    "for alpha in alphas:\n",
    "    print('Alpha: ', alpha)\n",
    "    #print('Score: ', train_and_predict(alpha))\n",
    "    print(\"accuracy:   %0.3f\" % train_and_predict(alpha))\n",
    "    print()"
   ]
  },
  {
   "cell_type": "markdown",
   "metadata": {},
   "source": [
    "Linear model is still the best one!\n",
    "\n",
    "\n",
    "### Introspecting models\n",
    "Inspecting the top 30 vectors for fake and real news:"
   ]
  },
  {
   "cell_type": "code",
   "execution_count": 121,
   "metadata": {},
   "outputs": [
    {
     "data": {
      "text/plain": [
       "[(-4.892404149001257, '2016'),\n",
       " (-4.283699532908533, 'october'),\n",
       " (-4.1345622045447294, 'hillary'),\n",
       " (-3.2615628192129256, 'share'),\n",
       " (-2.9728886816923485, 'article'),\n",
       " (-2.9294660801757173, 'november'),\n",
       " (-2.559941043577265, 'source'),\n",
       " (-2.467829390749052, 'print'),\n",
       " (-2.40273766161098, 'war'),\n",
       " (-2.363547309954408, 'email'),\n",
       " (-2.273683032914433, 'advertisement'),\n",
       " (-2.2005730325417003, 'oct'),\n",
       " (-2.152886250721954, 'mosul'),\n",
       " (-2.137432368160176, 'election'),\n",
       " (-2.088883877069037, 'podesta'),\n",
       " (-1.9623450443492534, 'establishment'),\n",
       " (-1.9370944486940673, 'nov'),\n",
       " (-1.8638942201131643, 'com'),\n",
       " (-1.7554631034738504, '26'),\n",
       " (-1.7332712718017758, 'corporate'),\n",
       " (-1.7170573289997164, 'brexit'),\n",
       " (-1.7048982479604964, 'pipeline'),\n",
       " (-1.7039373327121377, 'jewish'),\n",
       " (-1.68532787155601, 'donald'),\n",
       " (-1.6640649498172997, 'snip'),\n",
       " (-1.6617032647050316, 'dr'),\n",
       " (-1.6083730358073027, 'wikileaks'),\n",
       " (-1.6026105745298829, 'ayotte'),\n",
       " (-1.5714883989740789, 'photo'),\n",
       " (-1.5663313301942343, 'entire'),\n",
       " (-1.5546167783927298, 'healthcare'),\n",
       " (-1.5474020579110508, 'fbi'),\n",
       " (-1.5384060727269935, 'plant'),\n",
       " (-1.500571212642583, 'issa'),\n",
       " (-1.4981728937631453, '28'),\n",
       " (-1.494869308863003, 'rt'),\n",
       " (-1.4793541078323467, 'youtube'),\n",
       " (-1.4688253998268757, '___'),\n",
       " (-1.4656092850329028, 'mainstream'),\n",
       " (-1.4645149223111043, 'posts'),\n",
       " (-1.4556872975369395, 'reuters'),\n",
       " (-1.4483723146822536, 'comments'),\n",
       " (-1.4437151073682504, 'reno'),\n",
       " (-1.4087515284890073, 'corruption'),\n",
       " (-1.4078943407893265, 'filed'),\n",
       " (-1.4002985775315295, 'elect'),\n",
       " (-1.3956127388162007, 'wars'),\n",
       " (-1.3826911877034689, 'uk'),\n",
       " (-1.3792391048497907, 'obamacare'),\n",
       " (-1.36967409418335, 'shares')]"
      ]
     },
     "execution_count": 121,
     "metadata": {},
     "output_type": "execute_result"
    }
   ],
   "source": [
    "# Get the class labels: class_labels\n",
    "class_labels = linear_clf.classes_\n",
    "\n",
    "# Extract the features: feature_names\n",
    "feature_names = tfidf_vectorizer.get_feature_names()\n",
    "\n",
    "# Zip the feature names together with the coefficient array and sort by weights: feat_with_weights\n",
    "#feat_with_weights = sorted(zip(linear_clf.coef_[0], feature_names))\n",
    "\n",
    "# Print the first class label and the top 20 feat_with_weights entries\n",
    "#class_labels[0], feat_with_weights[:30]\n",
    "### Most fake\n",
    "sorted(zip(linear_clf.coef_[0], feature_names))[:50]"
   ]
  },
  {
   "cell_type": "code",
   "execution_count": 120,
   "metadata": {},
   "outputs": [
    {
     "data": {
      "text/plain": [
       "[(4.853370999503424, 'said'),\n",
       " (2.6507512652266505, 'says'),\n",
       " (2.573297954672576, 'tuesday'),\n",
       " (2.4142130656544833, 'gop'),\n",
       " (2.4000409141974504, 'islamic'),\n",
       " (2.3094072400517485, 'friday'),\n",
       " (2.230562968318458, 'cruz'),\n",
       " (2.206656898080858, 'conservative'),\n",
       " (2.148834204564349, 'monday'),\n",
       " (2.1142479697803394, 'marriage'),\n",
       " (2.0920397547231486, 'attacks'),\n",
       " (2.074904698233787, 'jobs'),\n",
       " (2.028462584093119, 'conservatives'),\n",
       " (1.978287894046736, 'march'),\n",
       " (1.9731370479191748, 'continue'),\n",
       " (1.9567596505932712, 'sunday'),\n",
       " (1.9115175424791506, 'presumptive'),\n",
       " (1.9057418068937901, 'rush'),\n",
       " (1.8955560294958564, 'candidates'),\n",
       " (1.8721137399916936, 'debate'),\n",
       " (1.8164044563771033, 'convention'),\n",
       " (1.807620750722371, 'sen'),\n",
       " (1.7742833842884322, 'deal'),\n",
       " (1.7394626737370047, 'week'),\n",
       " (1.7289975372712945, 'paris'),\n",
       " (1.7051483674234174, 'church'),\n",
       " (1.7007609707199327, 'group'),\n",
       " (1.6673848713071295, 'say'),\n",
       " (1.6628231401290956, 'recounts'),\n",
       " (1.6088910488963086, 'campaign'),\n",
       " (1.5735036062890158, 'attack'),\n",
       " (1.5592161833021412, 'security'),\n",
       " (1.559132291895393, 'lot'),\n",
       " (1.558804062480512, 'hispanic'),\n",
       " (1.5569983597211237, 'fox'),\n",
       " (1.5141728264606829, 'abortion'),\n",
       " (1.5011213929826752, 'reform'),\n",
       " (1.4869712021491597, '2014'),\n",
       " (1.4779055408351427, 'later'),\n",
       " (1.4750613911735717, 'polarization'),\n",
       " (1.4483793990571006, 'prices'),\n",
       " (1.4352998736307483, 'held'),\n",
       " (1.4229496444258742, 'baltimore'),\n",
       " (1.417890245264862, '2013'),\n",
       " (1.4091771571971496, 'sanders'),\n",
       " (1.4075445678406568, 'saturday'),\n",
       " (1.4009353390555137, 'nomination'),\n",
       " (1.3871054192514867, 'gay'),\n",
       " (1.3677091033371835, 'momentum'),\n",
       " (1.3641053940480075, 'thursday')]"
      ]
     },
     "execution_count": 120,
     "metadata": {},
     "output_type": "execute_result"
    }
   ],
   "source": [
    "# Print the second class label and the bottom 20 feat_with_weights entries\n",
    "#class_labels[1], feat_with_weights[-20:]\n",
    "### Most real\n",
    "sorted(zip(linear_clf.coef_[0], feature_names), reverse=True)[:50]"
   ]
  },
  {
   "cell_type": "markdown",
   "metadata": {},
   "source": [
    "Clearly there are certain words which might show political intent and source in the top fake features (such as the words corporate and establishment).\n",
    "\n",
    "Also, the real news data uses forms of the verb \"to say\" more often, likely because in newspapers and most journalistic publications sources are quoted directly (\"German Chancellor Angela Merkel said...\")."
   ]
  },
  {
   "cell_type": "markdown",
   "metadata": {},
   "source": [
    "There are lot we can do ...."
   ]
  },
  {
   "cell_type": "code",
   "execution_count": null,
   "metadata": {},
   "outputs": [],
   "source": []
  }
 ],
 "metadata": {
  "kernelspec": {
   "display_name": "Python 3",
   "language": "python",
   "name": "python3"
  },
  "language_info": {
   "codemirror_mode": {
    "name": "ipython",
    "version": 3
   },
   "file_extension": ".py",
   "mimetype": "text/x-python",
   "name": "python",
   "nbconvert_exporter": "python",
   "pygments_lexer": "ipython3",
   "version": "3.7.1"
  }
 },
 "nbformat": 4,
 "nbformat_minor": 2
}
